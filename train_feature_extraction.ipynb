{
 "cells": [
  {
   "cell_type": "code",
   "execution_count": 1,
   "metadata": {
    "collapsed": false
   },
   "outputs": [],
   "source": [
    "import pickle\n",
    "import tensorflow as tf\n",
    "from sklearn.model_selection import train_test_split\n",
    "from alexnet import AlexNet\n",
    "import numpy as np"
   ]
  },
  {
   "cell_type": "code",
   "execution_count": 2,
   "metadata": {
    "collapsed": true
   },
   "outputs": [],
   "source": [
    "# TODO: Load traffic signs data.\n",
    "\n",
    "import pickle\n",
    "\n",
    "training_file = 'train.p'\n",
    "testing_file = 'test.p'\n",
    "\n",
    "with open(training_file, mode='rb') as f:\n",
    "    train = pickle.load(f)\n",
    "with open(testing_file, mode='rb') as f:\n",
    "    test = pickle.load(f)\n",
    "    \n",
    "X_train, Y_train = train['features'], train['labels']\n",
    "X_test, Y_test = test['features'], test['labels']"
   ]
  },
  {
   "cell_type": "code",
   "execution_count": 3,
   "metadata": {
    "collapsed": true
   },
   "outputs": [],
   "source": [
    "def normalization(image):\n",
    "    image = image.astype(np.float32)\n",
    "    return image - np.mean(image)\n",
    "\n",
    "X_train = [normalization(elem) for elem in X_train]\n",
    "X_test = [normalization(elem) for elem in X_test]"
   ]
  },
  {
   "cell_type": "code",
   "execution_count": 4,
   "metadata": {
    "collapsed": false
   },
   "outputs": [],
   "source": [
    "nb_classes = len(np.unique(Y_train))"
   ]
  },
  {
   "cell_type": "code",
   "execution_count": 5,
   "metadata": {
    "collapsed": true
   },
   "outputs": [],
   "source": [
    "# TODO: Split data into training and validation sets.\n",
    "\n",
    "from sklearn.model_selection import train_test_split\n",
    "X_train_split, X_validation_split, Y_train_split, Y_validation_split = \\\n",
    "train_test_split(X_train, Y_train ,test_size=0.2, random_state=42 ,stratify=Y_train)"
   ]
  },
  {
   "cell_type": "code",
   "execution_count": 6,
   "metadata": {
    "collapsed": false
   },
   "outputs": [],
   "source": [
    "# TODO: Define placeholders and resize operation.\n",
    "\n",
    "x = tf.placeholder(tf.float32, (None, 32, 32, 3))\n",
    "resized = tf.image.resize_images(x, (227, 227))\n",
    "\n",
    "y = tf.placeholder(tf.int32, (None))\n",
    "y_one_hot = tf.one_hot(y, nb_classes)"
   ]
  },
  {
   "cell_type": "code",
   "execution_count": 7,
   "metadata": {
    "collapsed": false
   },
   "outputs": [],
   "source": [
    "# TODO: pass placeholder as first argument to `AlexNet`.\n",
    "fc7 = AlexNet(resized, feature_extract=True)\n",
    "# NOTE: `tf.stop_gradient` prevents the gradient from flowing backwards\n",
    "# past this point, keeping the weights before and up to `fc7` frozen.\n",
    "# This also makes training faster, less work to do!\n",
    "fc7 = tf.stop_gradient(fc7)"
   ]
  },
  {
   "cell_type": "code",
   "execution_count": 8,
   "metadata": {
    "collapsed": false
   },
   "outputs": [],
   "source": [
    "# TODO: Add the final layer for traffic sign classification.\n",
    "shape = (fc7.get_shape().as_list()[-1], nb_classes)  # use this shape for the weight matrix\n",
    "\n",
    "fc8W = tf.Variable(tf.truncated_normal(shape))\n",
    "fc8b = tf.Variable(tf.zeros(nb_classes))\n",
    "\n",
    "logits = tf.matmul(fc7, fc8W)+fc8b"
   ]
  },
  {
   "cell_type": "code",
   "execution_count": 12,
   "metadata": {
    "collapsed": false
   },
   "outputs": [],
   "source": [
    "# TODO: Define loss, training, accuracy operations.\n",
    "# HINT: Look back at your traffic signs project solution, you may\n",
    "# be able to reuse some the code.\n",
    "\n",
    "rate = 0.001\n",
    "EPOCHS = 10\n",
    "BATCH_SIZE = 64\n",
    "\n",
    "cross_entropy = tf.nn.softmax_cross_entropy_with_logits(logits, y_one_hot)\n",
    "loss = tf.reduce_mean(cross_entropy)\n",
    "training_operation = tf.train.AdamOptimizer(learning_rate=rate).minimize(loss)\n",
    "\n",
    "\n",
    "init = tf.global_variables_initializer()"
   ]
  },
  {
   "cell_type": "code",
   "execution_count": 13,
   "metadata": {
    "collapsed": true
   },
   "outputs": [],
   "source": [
    "# TODO: Train and evaluate the feature extraction model.\n",
    "\n",
    "correct_prediction = tf.equal(tf.argmax(logits, 1), tf.argmax(y_one_hot, 1))\n",
    "accuracy_operation = tf.reduce_mean(tf.cast(correct_prediction, tf.float32))\n",
    "saver = tf.train.Saver()\n",
    "\n",
    "def evaluate(X_data, y_data):\n",
    "    num_examples = len(X_data)\n",
    "    total_accuracy = 0\n",
    "    sess = tf.get_default_session()\n",
    "    for offset in range(0, num_examples, BATCH_SIZE):\n",
    "        batch_x, batch_y = X_data[offset:offset+BATCH_SIZE], y_data[offset:offset+BATCH_SIZE]\n",
    "        \n",
    "        if len(batch_x): # As BATCH_SIZE is not a divisor of X_train_split it raises an error if this is not checked\n",
    "            accuracy = sess.run(accuracy_operation, feed_dict={x: batch_x, y: batch_y})\n",
    "            total_accuracy += (accuracy * len(batch_x))\n",
    "    return total_accuracy / num_examples"
   ]
  },
  {
   "cell_type": "code",
   "execution_count": 14,
   "metadata": {
    "collapsed": false
   },
   "outputs": [
    {
     "name": "stdout",
     "output_type": "stream",
     "text": [
      "Training...\n",
      "\n",
      "Batch 1 of 490\n",
      "Batch 51 of 490\n",
      "Batch 101 of 490\n",
      "Batch 151 of 490\n",
      "Batch 201 of 490\n",
      "Batch 251 of 490\n",
      "Batch 301 of 490\n",
      "Batch 351 of 490\n",
      "Batch 401 of 490\n",
      "Batch 451 of 490\n",
      "\n",
      "EPOCH 1 ...\n",
      "Training Accuracy = 0.367\n",
      "Validation Accuracy = 0.352\n",
      "\n",
      "Batch 1 of 490\n",
      "Batch 51 of 490\n",
      "Batch 101 of 490\n",
      "Batch 151 of 490\n",
      "Batch 201 of 490\n",
      "Batch 251 of 490\n",
      "Batch 301 of 490\n",
      "Batch 351 of 490\n",
      "Batch 401 of 490\n",
      "Batch 451 of 490\n",
      "\n",
      "EPOCH 2 ...\n",
      "Training Accuracy = 0.530\n",
      "Validation Accuracy = 0.510\n",
      "\n",
      "Batch 1 of 490\n",
      "Batch 51 of 490\n",
      "Batch 101 of 490\n",
      "Batch 151 of 490\n",
      "Batch 201 of 490\n",
      "Batch 251 of 490\n",
      "Batch 301 of 490\n",
      "Batch 351 of 490\n",
      "Batch 401 of 490\n",
      "Batch 451 of 490\n",
      "\n",
      "EPOCH 3 ...\n",
      "Training Accuracy = 0.629\n",
      "Validation Accuracy = 0.605\n",
      "\n",
      "Batch 1 of 490\n",
      "Batch 51 of 490\n",
      "Batch 101 of 490\n",
      "Batch 151 of 490\n",
      "Batch 201 of 490\n",
      "Batch 251 of 490\n",
      "Batch 301 of 490\n",
      "Batch 351 of 490\n",
      "Batch 401 of 490\n",
      "Batch 451 of 490\n",
      "\n",
      "EPOCH 4 ...\n",
      "Training Accuracy = 0.690\n",
      "Validation Accuracy = 0.663\n",
      "\n",
      "Batch 1 of 490\n",
      "Batch 51 of 490\n",
      "Batch 101 of 490\n",
      "Batch 151 of 490\n",
      "Batch 201 of 490\n",
      "Batch 251 of 490\n",
      "Batch 301 of 490\n",
      "Batch 351 of 490\n",
      "Batch 401 of 490\n",
      "Batch 451 of 490\n",
      "\n",
      "EPOCH 5 ...\n",
      "Training Accuracy = 0.738\n",
      "Validation Accuracy = 0.705\n",
      "\n",
      "Batch 1 of 490\n",
      "Batch 51 of 490\n",
      "Batch 101 of 490\n",
      "Batch 151 of 490\n",
      "Batch 201 of 490\n",
      "Batch 251 of 490\n",
      "Batch 301 of 490\n",
      "Batch 351 of 490\n",
      "Batch 401 of 490\n",
      "Batch 451 of 490\n",
      "\n",
      "EPOCH 6 ...\n",
      "Training Accuracy = 0.776\n",
      "Validation Accuracy = 0.737\n",
      "\n",
      "Batch 1 of 490\n",
      "Batch 51 of 490\n",
      "Batch 101 of 490\n",
      "Batch 151 of 490\n",
      "Batch 201 of 490\n",
      "Batch 251 of 490\n",
      "Batch 301 of 490\n",
      "Batch 351 of 490\n",
      "Batch 401 of 490\n",
      "Batch 451 of 490\n",
      "\n",
      "EPOCH 7 ...\n",
      "Training Accuracy = 0.808\n",
      "Validation Accuracy = 0.761\n",
      "\n",
      "Batch 1 of 490\n",
      "Batch 51 of 490\n",
      "Batch 101 of 490\n",
      "Batch 151 of 490\n",
      "Batch 201 of 490\n",
      "Batch 251 of 490\n",
      "Batch 301 of 490\n",
      "Batch 351 of 490\n",
      "Batch 401 of 490\n",
      "Batch 451 of 490\n",
      "\n",
      "EPOCH 8 ...\n",
      "Training Accuracy = 0.830\n",
      "Validation Accuracy = 0.778\n",
      "\n",
      "Batch 1 of 490\n",
      "Batch 51 of 490\n",
      "Batch 101 of 490\n",
      "Batch 151 of 490\n",
      "Batch 201 of 490\n",
      "Batch 251 of 490\n",
      "Batch 301 of 490\n",
      "Batch 351 of 490\n",
      "Batch 401 of 490\n",
      "Batch 451 of 490\n",
      "\n",
      "EPOCH 9 ...\n",
      "Training Accuracy = 0.852\n",
      "Validation Accuracy = 0.799\n",
      "\n",
      "Batch 1 of 490\n",
      "Batch 51 of 490\n",
      "Batch 101 of 490\n",
      "Batch 151 of 490\n",
      "Batch 201 of 490\n",
      "Batch 251 of 490\n",
      "Batch 301 of 490\n",
      "Batch 351 of 490\n",
      "Batch 401 of 490\n",
      "Batch 451 of 490\n",
      "\n",
      "EPOCH 10 ...\n",
      "Training Accuracy = 0.867\n",
      "Validation Accuracy = 0.813\n",
      "\n",
      "Model saved\n"
     ]
    }
   ],
   "source": [
    "from sklearn.utils import shuffle\n",
    "\n",
    "ls_training_accuracy = []\n",
    "ls_validation_accuracy = []\n",
    "\n",
    "num_examples = len(X_train_split)\n",
    "total_batches = int(num_examples/BATCH_SIZE)\n",
    "\n",
    "print(\"Training...\")\n",
    "print()\n",
    "\n",
    "with tf.Session() as sess:\n",
    "    \n",
    "    sess.run(init)\n",
    "    \n",
    "    for i in range(EPOCHS):\n",
    "        X_t, Y_t = shuffle(X_train_split, Y_train_split)\n",
    "\n",
    "        for num_batch, offset in enumerate(range(0, num_examples, BATCH_SIZE)):\n",
    "            \n",
    "            if num_batch % 50 == 0:\n",
    "                print(\"Batch %d of %d\" % (num_batch+1, total_batches))\n",
    "\n",
    "            end = offset + BATCH_SIZE\n",
    "            batch_x, batch_y = X_t[offset:end], Y_t[offset:end]\n",
    "\n",
    "            if len(batch_x): # As BATCH_SIZE is not a divisor of X_train_split it raises an error if this is not checked\n",
    "                sess.run(training_operation, feed_dict={x: batch_x, y: batch_y})\n",
    "\n",
    "        training_accuracy = evaluate(X_train_split, Y_train_split)\n",
    "        validation_accuracy = evaluate(X_validation_split, Y_validation_split)\n",
    "\n",
    "        ls_training_accuracy.append(training_accuracy)\n",
    "        ls_validation_accuracy.append(validation_accuracy)\n",
    "\n",
    "        print(\"\\nEPOCH {} ...\".format(i+1))\n",
    "        print(\"Training Accuracy = {:.3f}\".format(training_accuracy))\n",
    "        print(\"Validation Accuracy = {:.3f}\".format(validation_accuracy))\n",
    "        print()\n",
    "\n",
    "    saver.save(sess, 'alexnet_transferred_features')\n",
    "    print(\"Model saved\")"
   ]
  },
  {
   "cell_type": "code",
   "execution_count": 15,
   "metadata": {
    "collapsed": false
   },
   "outputs": [
    {
     "name": "stdout",
     "output_type": "stream",
     "text": [
      "Metrics saved\n"
     ]
    }
   ],
   "source": [
    "import pickle\n",
    "\n",
    "history = {'train_acc': ls_training_accuracy, 'val_acc': ls_validation_accuracy}\n",
    "\n",
    "with open(\"model_metrics.pkl\", \"wb\") as fout:\n",
    "    pickle.dump(history, fout)\n",
    "    \n",
    "print(\"Metrics saved\")"
   ]
  },
  {
   "cell_type": "code",
   "execution_count": 23,
   "metadata": {
    "collapsed": false
   },
   "outputs": [
    {
     "data": {
      "image/png": "[encoded data removed]",
      "text/plain": [
       "<matplotlib.figure.Figure at 0x7fa4140e3a90>"
      ]
     },
     "metadata": {},
     "output_type": "display_data"
    }
   ],
   "source": [
    "import warnings\n",
    "warnings.filterwarnings('ignore') # Needs to be done as the fix for the warnings showed by plt.hold are not yet implemented\n",
    "\n",
    "import pylab as plt\n",
    "%matplotlib inline\n",
    "\n",
    "plt.figure(figsize=(8,5))\n",
    "plt.plot(range(1,len(ls_training_accuracy)+1), ls_training_accuracy, 'b')\n",
    "plt.xticks(range(1,len(ls_training_accuracy)+1))\n",
    "plt.hold(True)\n",
    "plt.plot(range(1,len(ls_training_accuracy)+1), ls_validation_accuracy, 'g')\n",
    "plt.hold(False)\n",
    "_ = plt.legend((\"Training\", \"Validation\"), loc='lower right')\n",
    "_ = plt.ylabel(\"Accuracy\")\n",
    "_ = plt.xlabel(\"Epochs\")"
   ]
  },
  {
   "cell_type": "markdown",
   "metadata": {},
   "source": [
    "```python\n",
    "EPOCH 10 ...\n",
    "Training Accuracy = 0.867\n",
    "Validation Accuracy = 0.813\n",
    "```\n",
    "Told to be truth, the accuracy achieved by transfer learning using Alexnet & Imagenet is really low compared with what I achieved training the model from scratch with a LeNet-like architecture. I'm pretty sure that given the higher complexity of this model, It will easy surpass the previous model just by training more epochs (30 could be enough). But every epoch takes soooo sooo long. One epoch on GPU takes more than what takes to train the whole model used in the Traffic Sign Classifier Project with a CPU. Or there is something wrong, or at for this use-case doesn't compensate this approach."
   ]
  },
  {
   "cell_type": "code",
   "execution_count": 24,
   "metadata": {
    "collapsed": false
   },
   "outputs": [
    {
     "name": "stdout",
     "output_type": "stream",
     "text": [
      "Test Accuracy = 0.640\n"
     ]
    }
   ],
   "source": [
    "# X_test is already normalized\n",
    "\n",
    "with tf.Session() as sess:\n",
    "    saver.restore(sess, tf.train.latest_checkpoint('.'))\n",
    "\n",
    "    test_accuracy = evaluate(X_test, Y_test)\n",
    "    print(\"Test Accuracy = {:.3f}\".format(test_accuracy))"
   ]
  },
  {
   "cell_type": "markdown",
   "metadata": {},
   "source": [
    ":-(\n",
    "\n",
    "I achieved 0.928 of accuracy on test in the Traffic Sign Classifier Project and 0.955 of accuracy on test in the Keras Lab"
   ]
  }
 ],
 "metadata": {
  "anaconda-cloud": {},
  "kernelspec": {
   "display_name": "Python [conda env:carnd-term1]",
   "language": "python",
   "name": "conda-env-carnd-term1-py"
  },
  "language_info": {
   "codemirror_mode": {
    "name": "ipython",
    "version": 3
   },
   "file_extension": ".py",
   "mimetype": "text/x-python",
   "name": "python",
   "nbconvert_exporter": "python",
   "pygments_lexer": "ipython3",
   "version": "3.5.2"
  }
 },
 "nbformat": 4,
 "nbformat_minor": 1
}
