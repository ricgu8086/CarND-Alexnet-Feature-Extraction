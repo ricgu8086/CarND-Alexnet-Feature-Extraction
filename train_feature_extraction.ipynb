{
 "cells": [
  {
   "cell_type": "code",
   "execution_count": 1,
   "metadata": {
    "collapsed": false
   },
   "outputs": [],
   "source": [
    "import pickle\n",
    "import tensorflow as tf\n",
    "from sklearn.model_selection import train_test_split\n",
    "from alexnet import AlexNet\n",
    "import numpy as np"
   ]
  },
  {
   "cell_type": "code",
   "execution_count": 2,
   "metadata": {
    "collapsed": true
   },
   "outputs": [],
   "source": [
    "# TODO: Load traffic signs data.\n",
    "\n",
    "import pickle\n",
    "\n",
    "training_file = 'train.p'\n",
    "testing_file = 'test.p'\n",
    "\n",
    "with open(training_file, mode='rb') as f:\n",
    "    train = pickle.load(f)\n",
    "with open(testing_file, mode='rb') as f:\n",
    "    test = pickle.load(f)\n",
    "    \n",
    "X_train, Y_train = train['features'], train['labels']\n",
    "X_test, Y_test = test['features'], test['labels']"
   ]
  },
  {
   "cell_type": "code",
   "execution_count": 3,
   "metadata": {
    "collapsed": true
   },
   "outputs": [],
   "source": [
    "def normalization(image):\n",
    "    image = image.astype(np.float32)\n",
    "    return image - np.mean(image)\n",
    "\n",
    "X_train = [normalization(elem) for elem in X_train]\n",
    "X_test = [normalization(elem) for elem in X_test]"
   ]
  },
  {
   "cell_type": "code",
   "execution_count": 4,
   "metadata": {
    "collapsed": false
   },
   "outputs": [],
   "source": [
    "nb_classes = len(np.unique(Y_train))"
   ]
  },
  {
   "cell_type": "code",
   "execution_count": 5,
   "metadata": {
    "collapsed": true
   },
   "outputs": [],
   "source": [
    "# TODO: Split data into training and validation sets.\n",
    "\n",
    "from sklearn.model_selection import train_test_split\n",
    "X_train_split, X_validation_split, Y_train_split, Y_validation_split = \\\n",
    "train_test_split(X_train, Y_train ,test_size=0.2, random_state=42 ,stratify=Y_train)"
   ]
  },
  {
   "cell_type": "code",
   "execution_count": 6,
   "metadata": {
    "collapsed": true
   },
   "outputs": [],
   "source": [
    "# TODO: Define placeholders and resize operation.\n",
    "\n",
    "x = tf.placeholder(tf.float32, (None, 32, 32, 3))\n",
    "resized = tf.image.resize_images(x, 227, 227)\n",
    "\n",
    "y = tf.placeholder(tf.int32, (None))\n",
    "y_one_hot = tf.one_hot(y, nb_classes)"
   ]
  },
  {
   "cell_type": "code",
   "execution_count": 7,
   "metadata": {
    "collapsed": false
   },
   "outputs": [],
   "source": [
    "# TODO: pass placeholder as first argument to `AlexNet`.\n",
    "fc7 = AlexNet(resized, feature_extract=True)\n",
    "# NOTE: `tf.stop_gradient` prevents the gradient from flowing backwards\n",
    "# past this point, keeping the weights before and up to `fc7` frozen.\n",
    "# This also makes training faster, less work to do!\n",
    "fc7 = tf.stop_gradient(fc7)"
   ]
  },
  {
   "cell_type": "code",
   "execution_count": 8,
   "metadata": {
    "collapsed": false
   },
   "outputs": [],
   "source": [
    "# TODO: Add the final layer for traffic sign classification.\n",
    "shape = (fc7.get_shape().as_list()[-1], nb_classes)  # use this shape for the weight matrix\n",
    "\n",
    "fc8W = tf.Variable(tf.truncated_normal(shape))\n",
    "fc8b = tf.Variable(tf.zeros(nb_classes))\n",
    "\n",
    "logits = tf.matmul(fc7, fc8W)+fc8b"
   ]
  },
  {
   "cell_type": "code",
   "execution_count": 9,
   "metadata": {
    "collapsed": true
   },
   "outputs": [],
   "source": [
    "# TODO: Define loss, training, accuracy operations.\n",
    "# HINT: Look back at your traffic signs project solution, you may\n",
    "# be able to reuse some the code.\n",
    "\n",
    "rate = 0.001\n",
    "EPOCHS = 10\n",
    "BATCH_SIZE = 64\n",
    "\n",
    "cross_entropy = tf.nn.softmax_cross_entropy_with_logits(logits, y_one_hot)\n",
    "loss = tf.reduce_mean(cross_entropy)\n",
    "training_operation = tf.train.AdamOptimizer(learning_rate=rate).minimize(loss)\n",
    "\n",
    "\n",
    "#init = tf.global_variables_initializer() # This line is not supported in this tensorflow version\n",
    "init = tf.initialize_all_variables()"
   ]
  },
  {
   "cell_type": "code",
   "execution_count": 10,
   "metadata": {
    "collapsed": true
   },
   "outputs": [],
   "source": [
    "# TODO: Train and evaluate the feature extraction model.\n",
    "\n",
    "correct_prediction = tf.equal(tf.argmax(logits, 1), tf.argmax(y_one_hot, 1))\n",
    "accuracy_operation = tf.reduce_mean(tf.cast(correct_prediction, tf.float32))\n",
    "saver = tf.train.Saver()\n",
    "\n",
    "def evaluate(X_data, y_data):\n",
    "    num_examples = len(X_data)\n",
    "    total_accuracy = 0\n",
    "    sess = tf.get_default_session()\n",
    "    for offset in range(0, num_examples, BATCH_SIZE):\n",
    "        batch_x, batch_y = X_data[offset:offset+BATCH_SIZE], y_data[offset:offset+BATCH_SIZE]\n",
    "        \n",
    "        if len(batch_x): # As BATCH_SIZE is not a divisor of X_train_split it raises an error if this is not checked\n",
    "            accuracy = sess.run(accuracy_operation, feed_dict={x: batch_x, y: batch_y})\n",
    "            total_accuracy += (accuracy * len(batch_x))\n",
    "    return total_accuracy / num_examples"
   ]
  },
  {
   "cell_type": "code",
   "execution_count": null,
   "metadata": {
    "collapsed": false
   },
   "outputs": [
    {
     "name": "stdout",
     "output_type": "stream",
     "text": [
      "Training...\n",
      "\n",
      "Batch 1 of 490\n"
     ]
    }
   ],
   "source": [
    "from sklearn.utils import shuffle\n",
    "\n",
    "ls_training_accuracy = []\n",
    "ls_validation_accuracy = []\n",
    "\n",
    "num_examples = len(X_train_split)\n",
    "total_batches = int(num_examples/BATCH_SIZE)\n",
    "\n",
    "print(\"Training...\")\n",
    "print()\n",
    "\n",
    "with tf.Session() as sess:\n",
    "    \n",
    "    sess.run(init)\n",
    "    \n",
    "    for i in range(EPOCHS):\n",
    "        X_t, Y_t = shuffle(X_train_split, Y_train_split)\n",
    "\n",
    "        for num_batch, offset in enumerate(range(0, BATCH_SIZE, BATCH_SIZE)):\n",
    "\n",
    "            if offset % 50 == 0:\n",
    "                print(\"Batch %d of %d\" % (num_batch+1, total_batches))\n",
    "\n",
    "            end = offset + BATCH_SIZE\n",
    "            batch_x, batch_y = X_t[offset:end], Y_t[offset:end]\n",
    "\n",
    "            if len(batch_x): # As BATCH_SIZE is not a divisor of X_train_split it raises an error if this is not checked\n",
    "                sess.run(training_operation, feed_dict={x: batch_x, y: batch_y})\n",
    "\n",
    "        training_accuracy = evaluate(X_train_split, Y_train_split)\n",
    "        validation_accuracy = evaluate(X_validation_split, Y_validation_split)\n",
    "\n",
    "        ls_training_accuracy.append(training_accuracy)\n",
    "        ls_validation_accuracy.append(validation_accuracy)\n",
    "\n",
    "        print(\"EPOCH {} ...\".format(i+1))\n",
    "        print(\"Training Accuracy = {:.3f}\".format(training_accuracy))\n",
    "        print(\"Validation Accuracy = {:.3f}\".format(validation_accuracy))\n",
    "        print()\n",
    "\n",
    "saver.save(sess, 'alexnet_transferred_features')\n",
    "print(\"Model saved\")"
   ]
  },
  {
   "cell_type": "code",
   "execution_count": null,
   "metadata": {
    "collapsed": true
   },
   "outputs": [],
   "source": [
    "import pickle\n",
    "\n",
    "history = {'train_acc': ls_training_accuracy, 'val_acc': ls_validation_accuracy}\n",
    "\n",
    "with open(\"model_metrics.pkl\", \"wb\") as fout:\n",
    "    pickle.dump(history, fout)\n",
    "    \n",
    "print(\"Metrics saved\")"
   ]
  },
  {
   "cell_type": "code",
   "execution_count": null,
   "metadata": {
    "collapsed": true
   },
   "outputs": [],
   "source": []
  }
 ],
 "metadata": {
  "anaconda-cloud": {},
  "kernelspec": {
   "display_name": "Python [conda env:CarND-TensorFlow-Lab]",
   "language": "python",
   "name": "conda-env-CarND-TensorFlow-Lab-py"
  },
  "language_info": {
   "codemirror_mode": {
    "name": "ipython",
    "version": 3
   },
   "file_extension": ".py",
   "mimetype": "text/x-python",
   "name": "python",
   "nbconvert_exporter": "python",
   "pygments_lexer": "ipython3",
   "version": "3.5.2"
  }
 },
 "nbformat": 4,
 "nbformat_minor": 1
}
